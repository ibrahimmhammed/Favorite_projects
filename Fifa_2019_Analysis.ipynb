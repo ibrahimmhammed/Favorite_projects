{
 "cells": [
  {
   "cell_type": "markdown",
   "metadata": {
    "id": "8Z91rhfFOlrb"
   },
   "source": [
    "# Importing Libraries"
   ]
  },
  {
   "cell_type": "code",
   "execution_count": 4,
   "metadata": {
    "id": "iFLxxY8vOqFN"
   },
   "outputs": [],
   "source": [
    "import numpy as np\n",
    "import pandas as pd\n",
    "import matplotlib.pyplot as plt\n",
    "import plotly as py\n",
    "import plotly.graph_objs as go\n",
    "import seaborn as sns\n",
    "import warnings\n",
    "warnings.filterwarnings(\"ignore\")"
   ]
  },
  {
   "cell_type": "markdown",
   "metadata": {
    "id": "1ctefsRcPS_L"
   },
   "source": [
    "# Reading File"
   ]
  },
  {
   "cell_type": "code",
   "execution_count": 7,
   "metadata": {
    "id": "k_jIeSiXPQAO"
   },
   "outputs": [
    {
     "ename": "OSError",
     "evalue": "[Errno 22] Invalid argument: '\\u202aC:\\\\Users\\\\Mega Store\\\\Desktop\\\\data.csv'",
     "output_type": "error",
     "traceback": [
      "\u001b[1;31m---------------------------------------------------------------------------\u001b[0m",
      "\u001b[1;31mOSError\u001b[0m                                   Traceback (most recent call last)",
      "Cell \u001b[1;32mIn[7], line 1\u001b[0m\n\u001b[1;32m----> 1\u001b[0m df1 \u001b[38;5;241m=\u001b[39m pd\u001b[38;5;241m.\u001b[39mread_csv(\u001b[38;5;124mr\u001b[39m\u001b[38;5;124m\"\u001b[39m\u001b[38;5;124m‪C:\u001b[39m\u001b[38;5;124m\\\u001b[39m\u001b[38;5;124mUsers\u001b[39m\u001b[38;5;124m\\\u001b[39m\u001b[38;5;124mMega Store\u001b[39m\u001b[38;5;124m\\\u001b[39m\u001b[38;5;124mDesktop\u001b[39m\u001b[38;5;124m\\\u001b[39m\u001b[38;5;124mdata.csv\u001b[39m\u001b[38;5;124m\"\u001b[39m)\n",
      "File \u001b[1;32m~\\anaconda3\\Lib\\site-packages\\pandas\\io\\parsers\\readers.py:948\u001b[0m, in \u001b[0;36mread_csv\u001b[1;34m(filepath_or_buffer, sep, delimiter, header, names, index_col, usecols, dtype, engine, converters, true_values, false_values, skipinitialspace, skiprows, skipfooter, nrows, na_values, keep_default_na, na_filter, verbose, skip_blank_lines, parse_dates, infer_datetime_format, keep_date_col, date_parser, date_format, dayfirst, cache_dates, iterator, chunksize, compression, thousands, decimal, lineterminator, quotechar, quoting, doublequote, escapechar, comment, encoding, encoding_errors, dialect, on_bad_lines, delim_whitespace, low_memory, memory_map, float_precision, storage_options, dtype_backend)\u001b[0m\n\u001b[0;32m    935\u001b[0m kwds_defaults \u001b[38;5;241m=\u001b[39m _refine_defaults_read(\n\u001b[0;32m    936\u001b[0m     dialect,\n\u001b[0;32m    937\u001b[0m     delimiter,\n\u001b[1;32m   (...)\u001b[0m\n\u001b[0;32m    944\u001b[0m     dtype_backend\u001b[38;5;241m=\u001b[39mdtype_backend,\n\u001b[0;32m    945\u001b[0m )\n\u001b[0;32m    946\u001b[0m kwds\u001b[38;5;241m.\u001b[39mupdate(kwds_defaults)\n\u001b[1;32m--> 948\u001b[0m \u001b[38;5;28;01mreturn\u001b[39;00m _read(filepath_or_buffer, kwds)\n",
      "File \u001b[1;32m~\\anaconda3\\Lib\\site-packages\\pandas\\io\\parsers\\readers.py:611\u001b[0m, in \u001b[0;36m_read\u001b[1;34m(filepath_or_buffer, kwds)\u001b[0m\n\u001b[0;32m    608\u001b[0m _validate_names(kwds\u001b[38;5;241m.\u001b[39mget(\u001b[38;5;124m\"\u001b[39m\u001b[38;5;124mnames\u001b[39m\u001b[38;5;124m\"\u001b[39m, \u001b[38;5;28;01mNone\u001b[39;00m))\n\u001b[0;32m    610\u001b[0m \u001b[38;5;66;03m# Create the parser.\u001b[39;00m\n\u001b[1;32m--> 611\u001b[0m parser \u001b[38;5;241m=\u001b[39m TextFileReader(filepath_or_buffer, \u001b[38;5;241m*\u001b[39m\u001b[38;5;241m*\u001b[39mkwds)\n\u001b[0;32m    613\u001b[0m \u001b[38;5;28;01mif\u001b[39;00m chunksize \u001b[38;5;129;01mor\u001b[39;00m iterator:\n\u001b[0;32m    614\u001b[0m     \u001b[38;5;28;01mreturn\u001b[39;00m parser\n",
      "File \u001b[1;32m~\\anaconda3\\Lib\\site-packages\\pandas\\io\\parsers\\readers.py:1448\u001b[0m, in \u001b[0;36mTextFileReader.__init__\u001b[1;34m(self, f, engine, **kwds)\u001b[0m\n\u001b[0;32m   1445\u001b[0m     \u001b[38;5;28mself\u001b[39m\u001b[38;5;241m.\u001b[39moptions[\u001b[38;5;124m\"\u001b[39m\u001b[38;5;124mhas_index_names\u001b[39m\u001b[38;5;124m\"\u001b[39m] \u001b[38;5;241m=\u001b[39m kwds[\u001b[38;5;124m\"\u001b[39m\u001b[38;5;124mhas_index_names\u001b[39m\u001b[38;5;124m\"\u001b[39m]\n\u001b[0;32m   1447\u001b[0m \u001b[38;5;28mself\u001b[39m\u001b[38;5;241m.\u001b[39mhandles: IOHandles \u001b[38;5;241m|\u001b[39m \u001b[38;5;28;01mNone\u001b[39;00m \u001b[38;5;241m=\u001b[39m \u001b[38;5;28;01mNone\u001b[39;00m\n\u001b[1;32m-> 1448\u001b[0m \u001b[38;5;28mself\u001b[39m\u001b[38;5;241m.\u001b[39m_engine \u001b[38;5;241m=\u001b[39m \u001b[38;5;28mself\u001b[39m\u001b[38;5;241m.\u001b[39m_make_engine(f, \u001b[38;5;28mself\u001b[39m\u001b[38;5;241m.\u001b[39mengine)\n",
      "File \u001b[1;32m~\\anaconda3\\Lib\\site-packages\\pandas\\io\\parsers\\readers.py:1705\u001b[0m, in \u001b[0;36mTextFileReader._make_engine\u001b[1;34m(self, f, engine)\u001b[0m\n\u001b[0;32m   1703\u001b[0m     \u001b[38;5;28;01mif\u001b[39;00m \u001b[38;5;124m\"\u001b[39m\u001b[38;5;124mb\u001b[39m\u001b[38;5;124m\"\u001b[39m \u001b[38;5;129;01mnot\u001b[39;00m \u001b[38;5;129;01min\u001b[39;00m mode:\n\u001b[0;32m   1704\u001b[0m         mode \u001b[38;5;241m+\u001b[39m\u001b[38;5;241m=\u001b[39m \u001b[38;5;124m\"\u001b[39m\u001b[38;5;124mb\u001b[39m\u001b[38;5;124m\"\u001b[39m\n\u001b[1;32m-> 1705\u001b[0m \u001b[38;5;28mself\u001b[39m\u001b[38;5;241m.\u001b[39mhandles \u001b[38;5;241m=\u001b[39m get_handle(\n\u001b[0;32m   1706\u001b[0m     f,\n\u001b[0;32m   1707\u001b[0m     mode,\n\u001b[0;32m   1708\u001b[0m     encoding\u001b[38;5;241m=\u001b[39m\u001b[38;5;28mself\u001b[39m\u001b[38;5;241m.\u001b[39moptions\u001b[38;5;241m.\u001b[39mget(\u001b[38;5;124m\"\u001b[39m\u001b[38;5;124mencoding\u001b[39m\u001b[38;5;124m\"\u001b[39m, \u001b[38;5;28;01mNone\u001b[39;00m),\n\u001b[0;32m   1709\u001b[0m     compression\u001b[38;5;241m=\u001b[39m\u001b[38;5;28mself\u001b[39m\u001b[38;5;241m.\u001b[39moptions\u001b[38;5;241m.\u001b[39mget(\u001b[38;5;124m\"\u001b[39m\u001b[38;5;124mcompression\u001b[39m\u001b[38;5;124m\"\u001b[39m, \u001b[38;5;28;01mNone\u001b[39;00m),\n\u001b[0;32m   1710\u001b[0m     memory_map\u001b[38;5;241m=\u001b[39m\u001b[38;5;28mself\u001b[39m\u001b[38;5;241m.\u001b[39moptions\u001b[38;5;241m.\u001b[39mget(\u001b[38;5;124m\"\u001b[39m\u001b[38;5;124mmemory_map\u001b[39m\u001b[38;5;124m\"\u001b[39m, \u001b[38;5;28;01mFalse\u001b[39;00m),\n\u001b[0;32m   1711\u001b[0m     is_text\u001b[38;5;241m=\u001b[39mis_text,\n\u001b[0;32m   1712\u001b[0m     errors\u001b[38;5;241m=\u001b[39m\u001b[38;5;28mself\u001b[39m\u001b[38;5;241m.\u001b[39moptions\u001b[38;5;241m.\u001b[39mget(\u001b[38;5;124m\"\u001b[39m\u001b[38;5;124mencoding_errors\u001b[39m\u001b[38;5;124m\"\u001b[39m, \u001b[38;5;124m\"\u001b[39m\u001b[38;5;124mstrict\u001b[39m\u001b[38;5;124m\"\u001b[39m),\n\u001b[0;32m   1713\u001b[0m     storage_options\u001b[38;5;241m=\u001b[39m\u001b[38;5;28mself\u001b[39m\u001b[38;5;241m.\u001b[39moptions\u001b[38;5;241m.\u001b[39mget(\u001b[38;5;124m\"\u001b[39m\u001b[38;5;124mstorage_options\u001b[39m\u001b[38;5;124m\"\u001b[39m, \u001b[38;5;28;01mNone\u001b[39;00m),\n\u001b[0;32m   1714\u001b[0m )\n\u001b[0;32m   1715\u001b[0m \u001b[38;5;28;01massert\u001b[39;00m \u001b[38;5;28mself\u001b[39m\u001b[38;5;241m.\u001b[39mhandles \u001b[38;5;129;01mis\u001b[39;00m \u001b[38;5;129;01mnot\u001b[39;00m \u001b[38;5;28;01mNone\u001b[39;00m\n\u001b[0;32m   1716\u001b[0m f \u001b[38;5;241m=\u001b[39m \u001b[38;5;28mself\u001b[39m\u001b[38;5;241m.\u001b[39mhandles\u001b[38;5;241m.\u001b[39mhandle\n",
      "File \u001b[1;32m~\\anaconda3\\Lib\\site-packages\\pandas\\io\\common.py:863\u001b[0m, in \u001b[0;36mget_handle\u001b[1;34m(path_or_buf, mode, encoding, compression, memory_map, is_text, errors, storage_options)\u001b[0m\n\u001b[0;32m    858\u001b[0m \u001b[38;5;28;01melif\u001b[39;00m \u001b[38;5;28misinstance\u001b[39m(handle, \u001b[38;5;28mstr\u001b[39m):\n\u001b[0;32m    859\u001b[0m     \u001b[38;5;66;03m# Check whether the filename is to be opened in binary mode.\u001b[39;00m\n\u001b[0;32m    860\u001b[0m     \u001b[38;5;66;03m# Binary mode does not support 'encoding' and 'newline'.\u001b[39;00m\n\u001b[0;32m    861\u001b[0m     \u001b[38;5;28;01mif\u001b[39;00m ioargs\u001b[38;5;241m.\u001b[39mencoding \u001b[38;5;129;01mand\u001b[39;00m \u001b[38;5;124m\"\u001b[39m\u001b[38;5;124mb\u001b[39m\u001b[38;5;124m\"\u001b[39m \u001b[38;5;129;01mnot\u001b[39;00m \u001b[38;5;129;01min\u001b[39;00m ioargs\u001b[38;5;241m.\u001b[39mmode:\n\u001b[0;32m    862\u001b[0m         \u001b[38;5;66;03m# Encoding\u001b[39;00m\n\u001b[1;32m--> 863\u001b[0m         handle \u001b[38;5;241m=\u001b[39m \u001b[38;5;28mopen\u001b[39m(\n\u001b[0;32m    864\u001b[0m             handle,\n\u001b[0;32m    865\u001b[0m             ioargs\u001b[38;5;241m.\u001b[39mmode,\n\u001b[0;32m    866\u001b[0m             encoding\u001b[38;5;241m=\u001b[39mioargs\u001b[38;5;241m.\u001b[39mencoding,\n\u001b[0;32m    867\u001b[0m             errors\u001b[38;5;241m=\u001b[39merrors,\n\u001b[0;32m    868\u001b[0m             newline\u001b[38;5;241m=\u001b[39m\u001b[38;5;124m\"\u001b[39m\u001b[38;5;124m\"\u001b[39m,\n\u001b[0;32m    869\u001b[0m         )\n\u001b[0;32m    870\u001b[0m     \u001b[38;5;28;01melse\u001b[39;00m:\n\u001b[0;32m    871\u001b[0m         \u001b[38;5;66;03m# Binary mode\u001b[39;00m\n\u001b[0;32m    872\u001b[0m         handle \u001b[38;5;241m=\u001b[39m \u001b[38;5;28mopen\u001b[39m(handle, ioargs\u001b[38;5;241m.\u001b[39mmode)\n",
      "\u001b[1;31mOSError\u001b[0m: [Errno 22] Invalid argument: '\\u202aC:\\\\Users\\\\Mega Store\\\\Desktop\\\\data.csv'"
     ]
    }
   ],
   "source": [
    "df1 = pd.read_csv(r\"‪C:\\Users\\Mega Store\\Desktop\\data.csv\")"
   ]
  },
  {
   "cell_type": "markdown",
   "metadata": {
    "id": "h_vPlnU1Qlcn"
   },
   "source": [
    "# Data Exploration"
   ]
  },
  {
   "cell_type": "code",
   "execution_count": null,
   "metadata": {
    "colab": {
     "base_uri": "https://localhost:8080/",
     "height": 360
    },
    "id": "yEWHnUHxPcAP",
    "outputId": "73853713-4b25-415f-b4ab-62662339f790"
   },
   "outputs": [],
   "source": [
    "df1.head()"
   ]
  },
  {
   "cell_type": "code",
   "execution_count": null,
   "metadata": {
    "colab": {
     "base_uri": "https://localhost:8080/"
    },
    "id": "W2ktnlMjQykH",
    "outputId": "31c048aa-5661-4c51-87b1-16b60f7cb17d"
   },
   "outputs": [],
   "source": [
    "df1.info()"
   ]
  },
  {
   "cell_type": "code",
   "execution_count": null,
   "metadata": {
    "colab": {
     "base_uri": "https://localhost:8080/",
     "height": 367
    },
    "id": "ZMnIckFFSyIv",
    "outputId": "0a1a7bfa-c512-4030-dac5-a44e4592fcc3"
   },
   "outputs": [],
   "source": [
    "df1.describe()"
   ]
  },
  {
   "cell_type": "code",
   "execution_count": null,
   "metadata": {
    "colab": {
     "base_uri": "https://localhost:8080/",
     "height": 259
    },
    "id": "8240cjHNS7ix",
    "outputId": "b4b306a2-60de-45fd-bbcc-e73cfe27675d"
   },
   "outputs": [],
   "source": [
    "df1.describe(include=\"O\")"
   ]
  },
  {
   "cell_type": "markdown",
   "metadata": {
    "id": "2pv-D1CbTYwB"
   },
   "source": [
    "We have too many features, so Let us only select some important features"
   ]
  },
  {
   "cell_type": "code",
   "execution_count": null,
   "metadata": {
    "id": "i7NCPBtgTDhO"
   },
   "outputs": [],
   "source": [
    "imp_features = ['Name',\n",
    "                   'Age','Overall',\n",
    "                   'Nationality',\n",
    "                   'Flag', 'LongPassing',\n",
    "                'Club',\n",
    "                   'BallControl',\n",
    "                   'Acceleration',\n",
    "                   'SprintSpeed',\n",
    "                   'Agility',\n",
    "                   'Reactions',\n",
    "                   'Balance',\n",
    "                   'ShotPower',\n",
    "                   'Jumping',\n",
    "                   'Stamina',\n",
    "                   'Strength',\n",
    "                   'LongShots',\n",
    "                   'Aggression',\n",
    "                   'Interceptions',\n",
    "                   'Positioning',\n",
    "                   'Vision',\n",
    "                   'Penalties',\n",
    "                   'Composure',\n",
    "                   'Marking',\n",
    "                   'StandingTackle',\n",
    "                   'SlidingTackle',\n",
    "                   'GKDiving',\n",
    "                   'GKHandling',\n",
    "                   'GKKicking',\n",
    "                   'GKPositioning',\n",
    "                   'GKReflexes','Position', 'Crossing', 'Volleys', 'HeadingAccuracy', 'ShortPassing', 'FKAccuracy', 'Finishing', 'Curve', 'Dribbling']"
   ]
  },
  {
   "cell_type": "code",
   "execution_count": null,
   "metadata": {
    "id": "B9odBFfeTqZo"
   },
   "outputs": [],
   "source": [
    "df = pd.DataFrame(df1 , columns = imp_features) #new df contains important features only"
   ]
  },
  {
   "cell_type": "code",
   "execution_count": null,
   "metadata": {
    "colab": {
     "base_uri": "https://localhost:8080/"
    },
    "id": "0Qc9Ck2AUIIq",
    "outputId": "5ae77ccc-5a3b-4771-e59a-eff53e2bb5e8"
   },
   "outputs": [],
   "source": [
    "df.shape"
   ]
  },
  {
   "cell_type": "markdown",
   "metadata": {
    "id": "toV8dIbUUTbz"
   },
   "source": [
    "# Data Analysis"
   ]
  },
  {
   "cell_type": "code",
   "execution_count": null,
   "metadata": {
    "colab": {
     "base_uri": "https://localhost:8080/",
     "height": 544
    },
    "id": "aN-44rAKZJAu",
    "outputId": "4a23b01f-c634-4c71-be26-15547fbd0ff8"
   },
   "outputs": [],
   "source": [
    "plt.figure(figsize = (15 , 6))\n",
    "df['Age'].plot(kind = 'hist' , bins = 50)\n",
    "plt.title('Age of players')\n",
    "plt.show()\n",
    "#distribution of ages"
   ]
  },
  {
   "cell_type": "code",
   "execution_count": null,
   "metadata": {
    "colab": {
     "base_uri": "https://localhost:8080/",
     "height": 380
    },
    "id": "_9cq51sZUbSG",
    "outputId": "78133b31-ffc7-4de3-c67f-d85c1e456565"
   },
   "outputs": [],
   "source": [
    "cor = df.corr()\n",
    "\n",
    "# Select the top 11 features with the highest correlation with \"Age\"\n",
    "top_corr_features = cor.nlargest(11, \"Age\")[\"Age\"].index\n",
    "\n",
    "# Extract the actual correlation matrix for the top features\n",
    "top_corr = df[top_corr_features].corr()\n",
    "\n",
    "# Create a heatmap\n",
    "plt.figure(figsize=(20, 5))\n",
    "sns.heatmap(top_corr, annot=True, fmt=\".2f\", cmap=\"coolwarm\")\n",
    "plt.show()"
   ]
  },
  {
   "cell_type": "code",
   "execution_count": null,
   "metadata": {
    "colab": {
     "base_uri": "https://localhost:8080/",
     "height": 1000
    },
    "id": "fHSnkurHZ2hV",
    "outputId": "e22c692f-694a-4721-c4d6-aa179c520d85"
   },
   "outputs": [],
   "source": [
    "#Detailed Analysis of correlation (top vals)\n",
    "top_vals = ['Overall' , 'Composure' , 'Strength','Aggression' , 'Interceptions' , 'FKAccuracy' ,\n",
    "       'Vision','Reactions','LongPassing','Jumping']\n",
    "for feature in top_vals:\n",
    "    plt.figure()\n",
    "    sns.regplot(x  = 'Age' , y = feature , data = df ,\n",
    "                        color = 'red')"
   ]
  },
  {
   "cell_type": "code",
   "execution_count": null,
   "metadata": {
    "colab": {
     "base_uri": "https://localhost:8080/",
     "height": 378
    },
    "id": "v8jDexltXNbQ",
    "outputId": "c74f209a-2d5d-4b98-b202-a00c495ad497"
   },
   "outputs": [],
   "source": [
    "# Select the bottom 11 features with the smallest correlation with \"Age\"\n",
    "bottom_corr_features = cor[\"Age\"].nsmallest(10).index\n",
    "\n",
    "# Include the \"Age\" column in the selected features\n",
    "bottom_corr_features = bottom_corr_features.union([\"Age\"])\n",
    "\n",
    "# Extract the actual correlation matrix for the bottom features\n",
    "bottom_corr = df[bottom_corr_features].corr()\n",
    "\n",
    "# Create a heatmap\n",
    "plt.figure(figsize=(20, 5))\n",
    "sns.heatmap(bottom_corr, annot=True, fmt=\".2f\", cmap=\"coolwarm\")\n",
    "plt.show()\n"
   ]
  },
  {
   "cell_type": "code",
   "execution_count": null,
   "metadata": {
    "colab": {
     "base_uri": "https://localhost:8080/",
     "height": 1000
    },
    "id": "GRZAcWwuZBn6",
    "outputId": "d212b054-a3e1-4885-c23f-8ce7f19c0c75"
   },
   "outputs": [],
   "source": [
    "#Detailed Analysis of correlation (bottom vals)\n",
    "bottom_vals = ['Acceleration' , 'Agility' , 'Balance','BallControl' , 'Dribbling' , 'Finishing' ,\n",
    "       'GKDiving','Positioning','SprintSpeed','Stamina']\n",
    "for feature in bottom_vals:\n",
    "    plt.figure()\n",
    "    sns.regplot(x  = 'Age' , y = feature , data = df ,\n",
    "                        color = 'blue')"
   ]
  },
  {
   "cell_type": "markdown",
   "metadata": {
    "id": "mPy1Uwg3eNrh"
   },
   "source": [
    "# Lets see oldest and youngest players"
   ]
  },
  {
   "cell_type": "code",
   "execution_count": null,
   "metadata": {
    "colab": {
     "base_uri": "https://localhost:8080/",
     "height": 308
    },
    "id": "KBStordLZBOv",
    "outputId": "86314b61-7165-42af-b459-3326553b4d52"
   },
   "outputs": [],
   "source": [
    "df.sort_values(\"Age\").nlargest(columns=(\"Age\"),n=5) #top 5 oldest players"
   ]
  },
  {
   "cell_type": "code",
   "execution_count": null,
   "metadata": {
    "colab": {
     "base_uri": "https://localhost:8080/",
     "height": 342
    },
    "id": "1RZmhj2gdq93",
    "outputId": "c6a820d0-7848-4fbb-c5cc-582cfcdc5764"
   },
   "outputs": [],
   "source": [
    "df.sort_values(\"Age\").nsmallest(columns=(\"Age\"),n=5) #top 5 youngest players"
   ]
  },
  {
   "cell_type": "code",
   "execution_count": null,
   "metadata": {
    "colab": {
     "base_uri": "https://localhost:8080/"
    },
    "id": "0seGCBnTew7m",
    "outputId": "4967a372-1e8f-43b1-db16-0b6c42058344"
   },
   "outputs": [],
   "source": [
    "df['Nationality'].value_counts()"
   ]
  },
  {
   "cell_type": "markdown",
   "metadata": {
    "id": "Nj2to_o0oNFa"
   },
   "source": [
    "Lets go deeper and see Egyption Players"
   ]
  },
  {
   "cell_type": "code",
   "execution_count": null,
   "metadata": {
    "colab": {
     "base_uri": "https://localhost:8080/",
     "height": 1000
    },
    "id": "30C7Walxewv9",
    "outputId": "08e4fdf9-f9cc-4085-ea94-48acd1c07eaa"
   },
   "outputs": [],
   "source": [
    "egy= df.loc[df['Nationality'] ==\"Egypt\"]\n",
    "egy\n",
    "#showing all Egyption players in df"
   ]
  },
  {
   "cell_type": "code",
   "execution_count": null,
   "metadata": {
    "colab": {
     "base_uri": "https://localhost:8080/",
     "height": 560
    },
    "id": "ITfL1SOpewrc",
    "outputId": "0c9c36b8-144b-411c-b369-3a6a461ec1ec"
   },
   "outputs": [],
   "source": [
    "#overall dist for egyption players\n",
    "plt.figure(figsize=(10, 5))\n",
    "plt.xticks(rotation= 90)\n",
    "sns.barplot(data=egy, x='Name', y='Overall')\n",
    "plt.show()"
   ]
  },
  {
   "cell_type": "code",
   "execution_count": null,
   "metadata": {
    "colab": {
     "base_uri": "https://localhost:8080/",
     "height": 560
    },
    "id": "V7XRJ-qLmcMc",
    "outputId": "4873cd4b-7aa2-40eb-d8d9-b2f577348bbb"
   },
   "outputs": [],
   "source": [
    "#age dist for egyption players\n",
    "plt.figure(figsize=(10, 5))\n",
    "plt.xticks(rotation= 90)\n",
    "sns.barplot(data=egy, x='Name', y='Age')\n",
    "plt.show()"
   ]
  },
  {
   "cell_type": "markdown",
   "metadata": {
    "id": "JNtQSp1FoX6z"
   },
   "source": [
    "And now .. what about all players ?"
   ]
  },
  {
   "cell_type": "code",
   "execution_count": null,
   "metadata": {
    "colab": {
     "base_uri": "https://localhost:8080/",
     "height": 1000
    },
    "id": "tD-BooC6mwvH",
    "outputId": "a0152247-5d22-4dbe-c87f-381e6e491f53"
   },
   "outputs": [],
   "source": [
    "topplayers_df = pd.DataFrame.copy(df.sort_values(by = 'Overall' ,\n",
    "                                                   ascending = False ).head(20))\n",
    "topplayers_df"
   ]
  },
  {
   "cell_type": "code",
   "execution_count": null,
   "metadata": {
    "colab": {
     "base_uri": "https://localhost:8080/"
    },
    "id": "AnNEL4fjmwrh",
    "outputId": "11478d0f-c235-487f-c27d-97e765df479a"
   },
   "outputs": [],
   "source": [
    "topplayers_n= topplayers_df['Nationality'].value_counts() #Nationalites of best players\n",
    "topplayers_n"
   ]
  },
  {
   "cell_type": "code",
   "execution_count": null,
   "metadata": {
    "colab": {
     "base_uri": "https://localhost:8080/",
     "height": 499
    },
    "id": "NkRW9YUst0l2",
    "outputId": "b909aa8e-e560-48c9-d351-8e0a6b3400f3"
   },
   "outputs": [],
   "source": [
    "plt.figure(figsize=(10,5))\n",
    "plt.xticks(rotation=90)\n",
    "sns.barplot(data= topplayers_df,\n",
    "            x=topplayers_n.index,\n",
    "           y=topplayers_n.values )\n",
    "plt.show()"
   ]
  },
  {
   "cell_type": "code",
   "execution_count": null,
   "metadata": {
    "colab": {
     "base_uri": "https://localhost:8080/"
    },
    "id": "Z45mi_zavhvd",
    "outputId": "eda3f307-6ee9-4993-fc16-5850bcf26ae2"
   },
   "outputs": [],
   "source": [
    "topplayers_c= topplayers_df['Club'].value_counts() #clubs of best players\n",
    "topplayers_c"
   ]
  },
  {
   "cell_type": "code",
   "execution_count": null,
   "metadata": {
    "colab": {
     "base_uri": "https://localhost:8080/",
     "height": 570
    },
    "id": "2YSUTcWWv17N",
    "outputId": "8a121497-af7e-4f57-f65c-3a33664633c3"
   },
   "outputs": [],
   "source": [
    "plt.figure(figsize=(10,5))\n",
    "plt.xticks(rotation=90)\n",
    "sns.barplot(data= topplayers_df,\n",
    "            x=topplayers_c.index,\n",
    "           y=topplayers_c.values )\n",
    "plt.show()"
   ]
  },
  {
   "cell_type": "markdown",
   "metadata": {
    "id": "GwbOfDJW1h50"
   },
   "source": [
    "But (Overall) not realy everything .. we have to go deeper in players skills and abilities, and this for all players not topplayers only\n"
   ]
  },
  {
   "cell_type": "code",
   "execution_count": null,
   "metadata": {
    "id": "Wzws6NULwAKc"
   },
   "outputs": [],
   "source": [
    "abilities = ['Crossing', 'Finishing', 'HeadingAccuracy',\n",
    "       'ShortPassing', 'Volleys', 'Dribbling', 'Curve', 'FKAccuracy',\n",
    "       'LongPassing', 'BallControl', 'Acceleration', 'SprintSpeed',\n",
    "       'Agility', 'Reactions', 'Balance', 'ShotPower', 'Jumping',\n",
    "       'Stamina', 'Strength', 'LongShots', 'Aggression', 'Interceptions',\n",
    "       'Positioning', 'Vision', 'Penalties', 'Composure', 'Marking',\n",
    "       'StandingTackle', 'SlidingTackle', 'GKDiving', 'GKHandling',\n",
    "       'GKKicking', 'GKPositioning', 'GKReflexes']"
   ]
  },
  {
   "cell_type": "code",
   "execution_count": null,
   "metadata": {
    "id": "wyToLAuO0M48"
   },
   "outputs": [],
   "source": [
    "# Create an empty dictionary to store results\n",
    "top_players_by_ability = {}\n",
    "\n",
    "for s in abilities:\n",
    "    # Sort DataFrame by current ability in descending order\n",
    "    top_players = df.sort_values(by=s, ascending=False)[['Name', 'Club', 'Nationality','Overall', s]].head(5)\n",
    "\n",
    "    # Store the result in the dictionary\n",
    "    top_players_by_ability[s] = top_players"
   ]
  },
  {
   "cell_type": "markdown",
   "metadata": {
    "id": "KETkxr0U0ofb"
   },
   "source": [
    "lets use our loop to test some abilities"
   ]
  },
  {
   "cell_type": "code",
   "execution_count": null,
   "metadata": {
    "colab": {
     "base_uri": "https://localhost:8080/"
    },
    "id": "SDNYuij30hK_",
    "outputId": "8b63361a-a490-4ce4-b73d-17ec3fadcab7"
   },
   "outputs": [],
   "source": [
    "print(top_players_by_ability['Finishing'])\n"
   ]
  },
  {
   "cell_type": "code",
   "execution_count": null,
   "metadata": {
    "colab": {
     "base_uri": "https://localhost:8080/"
    },
    "id": "4dNvwr-t04IE",
    "outputId": "bff5d4ae-b325-4818-e3c7-9c977352c6c3"
   },
   "outputs": [],
   "source": [
    "print(top_players_by_ability['ShotPower'])\n"
   ]
  },
  {
   "cell_type": "code",
   "execution_count": null,
   "metadata": {
    "colab": {
     "base_uri": "https://localhost:8080/"
    },
    "id": "GrH9pexF1Cde",
    "outputId": "ade0d5ac-e89c-48a2-b116-ccb4d61ceb45"
   },
   "outputs": [],
   "source": [
    "print(top_players_by_ability['Stamina'])\n"
   ]
  },
  {
   "cell_type": "code",
   "execution_count": null,
   "metadata": {
    "colab": {
     "base_uri": "https://localhost:8080/"
    },
    "id": "jfar0dVU2KhC",
    "outputId": "d279a831-c730-4c69-baa0-eda8d37c10af"
   },
   "outputs": [],
   "source": [
    "print(top_players_by_ability['SprintSpeed'])\n"
   ]
  },
  {
   "cell_type": "code",
   "execution_count": null,
   "metadata": {
    "colab": {
     "base_uri": "https://localhost:8080/"
    },
    "id": "WMtGR2YJ2XDU",
    "outputId": "a2bf1312-36fa-4d13-b8d2-741f6cee4fed"
   },
   "outputs": [],
   "source": [
    "print(top_players_by_ability['Vision'])\n"
   ]
  }
 ],
 "metadata": {
  "colab": {
   "provenance": []
  },
  "kernelspec": {
   "display_name": "Python 3 (ipykernel)",
   "language": "python",
   "name": "python3"
  },
  "language_info": {
   "codemirror_mode": {
    "name": "ipython",
    "version": 3
   },
   "file_extension": ".py",
   "mimetype": "text/x-python",
   "name": "python",
   "nbconvert_exporter": "python",
   "pygments_lexer": "ipython3",
   "version": "3.11.5"
  }
 },
 "nbformat": 4,
 "nbformat_minor": 1
}
